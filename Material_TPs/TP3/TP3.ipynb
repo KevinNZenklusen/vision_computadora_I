{
 "cells": [
  {
   "cell_type": "markdown",
   "metadata": {},
   "source": [
    "# <font color='orange'>Trabajo práctico N° 3</font>\n",
    "## <font color='cornflowerblue'>Visión por computadora I</font>\n",
    "### <font color='violet'>Alumno: Zenklusen, Kevin</font>"
   ]
  },
  {
   "cell_type": "markdown",
   "metadata": {},
   "source": [
    "Encontrar el logotipo de la gaseosa dentro de las imágenes provistas en \n",
    "Material_TPs/TP3/images a partir del template Material_TPs/TP3/template\n",
    "1. (4 puntos) Obtener una detección del logo en cada imagen sin falsos positivos\n",
    "2. (4 puntos) Plantear y validar un algoritmo para múltiples detecciones en la imagen\n",
    "coca_multi.png con el mismo témplate del ítem 1\n",
    "3. (2 puntos) Generalizar el algoritmo del item 2 para todas las imágenes.\n",
    "Visualizar los resultados con bounding boxes en cada imagen mostrando el nivel de confianza\n",
    "de la detección"
   ]
  },
  {
   "cell_type": "markdown",
   "metadata": {},
   "source": [
    "1. El siguiente código permite detectar la ubicación del logo una vez en la imagen. En el caso de múltiples logos, indica la mejor región en la que se encuentra el conjunto.\n",
    "<br>\n",
    "Para realizar la detección se se preprocesa las imágenes quitando el ruido y utilizando el algoritmo Canny. Luego se escala y rota levemente el template para buscar los matches.\n",
    "<br>\n",
    "Esta función pretende ser un método básico de detección, y la filtración de falsos positivos se realiza mediante score.\n",
    "<br>\n",
    "El score se calcula mediante una comparación entre el template consigo mismo. Se consideró utilizar los métodos de búscqueda nomralizados (como TM_CCOEFF_NORM), pero se obtenían peores detecciones.\n",
    "<br>\n",
    "Los resultados se muestran en la carpeta output."
   ]
  },
  {
   "cell_type": "code",
   "execution_count": 65,
   "metadata": {},
   "outputs": [
    {
     "name": "stdout",
     "output_type": "stream",
     "text": [
      "Output guardado en: images\\output\\output_COCA-COLA-LOGO.jpg con los 1 mejores matches\n",
      "Output guardado en: images\\output\\output_coca_logo_1.png con los 1 mejores matches\n",
      "Output guardado en: images\\output\\output_coca_logo_2.png con los 1 mejores matches\n",
      "Output guardado en: images\\output\\output_coca_multi.png con los 1 mejores matches\n",
      "Output guardado en: images\\output\\output_coca_retro_1.png con los 1 mejores matches\n",
      "Output guardado en: images\\output\\output_coca_retro_2.png con los 1 mejores matches\n",
      "Output guardado en: images\\output\\output_logo_1.png con los 1 mejores matches\n"
     ]
    }
   ],
   "source": [
    "import cv2\n",
    "import numpy as np\n",
    "import os\n",
    "\n",
    "def rotate_image(image, angle):\n",
    "    image_center = tuple(np.array(image.shape[1::-1]) / 2)\n",
    "    rot_mat = cv2.getRotationMatrix2D(image_center, angle, 1.0)\n",
    "    result = cv2.warpAffine(image, rot_mat, image.shape[1::-1], flags=cv2.INTER_LINEAR)\n",
    "    return result\n",
    "\n",
    "def remove_noise(image):\n",
    "    denoised_image = cv2.bilateralFilter(image, d=9, sigmaColor=75, sigmaSpace=75)\n",
    "    return denoised_image\n",
    "\n",
    "def calculate_self_similarity(template, edge_thresh1, edge_thresh2):\n",
    "    gray_template = cv2.cvtColor(template, cv2.COLOR_BGR2GRAY)\n",
    "    gray_template = remove_noise(gray_template)\n",
    "    edges_template = cv2.Canny(gray_template, edge_thresh1, edge_thresh2)\n",
    "    result = cv2.matchTemplate(edges_template, edges_template, cv2.TM_CCORR)\n",
    "    _, max_val, _, _ = cv2.minMaxLoc(result)\n",
    "    return max_val\n",
    "\n",
    "def multi_scale_template_matching(image, template, scale_range, angle_range, edge_thresh1, edge_thresh2, n_best_matches=1, self_similarity=None):\n",
    "    gray_image = cv2.cvtColor(image, cv2.COLOR_BGR2GRAY)\n",
    "    gray_template = cv2.cvtColor(template, cv2.COLOR_BGR2GRAY)\n",
    "\n",
    "    gray_image = remove_noise(gray_image)\n",
    "    gray_template = remove_noise(gray_template)\n",
    "\n",
    "    image_height, image_width = gray_image.shape\n",
    "    template_height, template_width = gray_template.shape\n",
    "    scale_width = image_width / template_width\n",
    "    scale_height = image_height / template_height\n",
    "    scale_factor = min(scale_width, scale_height)\n",
    "    gray_template = cv2.resize(gray_template, (int(template_width * scale_factor), int(template_height * scale_factor)))\n",
    "\n",
    "    gray_image = cv2.GaussianBlur(gray_image, (5, 5), 0)\n",
    "    edges_image = cv2.Canny(gray_image, edge_thresh1, edge_thresh2)    \n",
    "\n",
    "    best_matches = []\n",
    "\n",
    "    for scale in scale_range:\n",
    "        resized_template = cv2.resize(gray_template, (int(gray_template.shape[1] * scale), int(gray_template.shape[0] * scale)))\n",
    "\n",
    "        if resized_template.shape[0] > gray_image.shape[0] or resized_template.shape[1] > gray_image.shape[1]:\n",
    "            continue\n",
    "        \n",
    "        for angle in angle_range:\n",
    "            rotated_template = rotate_image(resized_template, angle)\n",
    "            rotated_template = cv2.GaussianBlur(rotated_template, (5, 5), 0)\n",
    "            edges_template = cv2.Canny(rotated_template, edge_thresh1, edge_thresh2)\n",
    "            result = cv2.matchTemplate(edges_image, edges_template, cv2.TM_CCOEFF)\n",
    "            min_val, max_val, min_loc, max_loc = cv2.minMaxLoc(result)\n",
    "\n",
    "            similarity_score = (max_val / self_similarity) * 100\n",
    "\n",
    "            if len(best_matches) < n_best_matches:\n",
    "                best_matches.append((max_val, max_loc, scale, angle, rotated_template, similarity_score))\n",
    "                best_matches.sort(reverse=True, key=lambda x: x[0])\n",
    "            elif max_val > best_matches[-1][0]:\n",
    "                best_matches[-1] = (max_val, max_loc, scale, angle, rotated_template, similarity_score)\n",
    "                best_matches.sort(reverse=True, key=lambda x: x[0])\n",
    "\n",
    "    if not best_matches:\n",
    "        print(\"No se encontraron buenos matches.\")\n",
    "        return []\n",
    "\n",
    "    return best_matches\n",
    "\n",
    "# Directorio que contiene las imágenes\n",
    "image_directory = 'images'\n",
    "template = cv2.imread('template/pattern.png', cv2.IMREAD_COLOR)\n",
    "scale_range = np.linspace(0.02, 1, 100)\n",
    "angle_range = range(-2, 3)  # De -2 a 2 grados\n",
    "edge_thresh1 = 100\n",
    "edge_thresh2 = 200\n",
    "n_best_matches = 1  # Número de mejores matches que queremos graficar\n",
    "match_score = 5.0 # Umbral de detección\n",
    "\n",
    "output_directory = os.path.join(image_directory, 'output')\n",
    "os.makedirs(output_directory, exist_ok=True)\n",
    "\n",
    "# Calcular la similitud del template consigo mismo\n",
    "self_similarity = calculate_self_similarity(template, edge_thresh1, edge_thresh2)\n",
    "\n",
    "for filename in os.listdir(image_directory):\n",
    "    if filename.endswith(\".jpg\") or filename.endswith(\".png\"):\n",
    "        image_path = os.path.join(image_directory, filename)\n",
    "        image = cv2.imread(image_path, cv2.IMREAD_COLOR)\n",
    "        \n",
    "        best_matches = multi_scale_template_matching(image, template, scale_range, angle_range, edge_thresh1, edge_thresh2, n_best_matches, self_similarity)\n",
    "        \n",
    "        if best_matches:\n",
    "            for i, (val, loc, scale, angle, match_template, score) in enumerate(best_matches):\n",
    "                if score > match_score:\n",
    "                    top_left = loc\n",
    "                    template_height, template_width = match_template.shape\n",
    "                    bottom_right = (top_left[0] + template_width, top_left[1] + template_height)\n",
    "                    cv2.rectangle(image, top_left, bottom_right, (0, 255, 0), 2)\n",
    "                    cv2.putText(image, f'Match {i+1}: {score:.2f}%', (top_left[0], top_left[1]-10), cv2.FONT_HERSHEY_SIMPLEX, 0.5, (0, 255, 0), 1)\n",
    "\n",
    "            output_path = os.path.join(output_directory, 'output_' + filename)\n",
    "            cv2.imwrite(output_path, image)\n",
    "            print(f'Output guardado en: {output_path} con los {n_best_matches} mejores matches')\n",
    "        else:\n",
    "            print(f'No se encontró un buen match para la imagen: {filename}')\n"
   ]
  },
  {
   "cell_type": "code",
   "execution_count": 36,
   "metadata": {},
   "outputs": [
    {
     "name": "stdout",
     "output_type": "stream",
     "text": [
      "Output guardado en: images\\output\\output_TM_CCOEFF_COCA-COLA-LOGO.jpg con los 5 mejores matches usando TM_CCOEFF\n",
      "Output guardado en: images\\output\\output_TM_CCOEFF_coca_logo_1.png con los 5 mejores matches usando TM_CCOEFF\n",
      "Output guardado en: images\\output\\output_TM_CCOEFF_coca_logo_2.png con los 5 mejores matches usando TM_CCOEFF\n",
      "Output guardado en: images\\output\\output_TM_CCOEFF_coca_multi.png con los 5 mejores matches usando TM_CCOEFF\n",
      "Output guardado en: images\\output\\output_TM_CCOEFF_coca_retro_1.png con los 5 mejores matches usando TM_CCOEFF\n",
      "Output guardado en: images\\output\\output_TM_CCOEFF_coca_retro_2.png con los 5 mejores matches usando TM_CCOEFF\n",
      "Output guardado en: images\\output\\output_TM_CCOEFF_logo_1.png con los 5 mejores matches usando TM_CCOEFF\n",
      "Output guardado en: images\\output\\output_TM_CCORR_COCA-COLA-LOGO.jpg con los 5 mejores matches usando TM_CCORR\n",
      "Output guardado en: images\\output\\output_TM_CCORR_coca_logo_1.png con los 5 mejores matches usando TM_CCORR\n",
      "Output guardado en: images\\output\\output_TM_CCORR_coca_logo_2.png con los 5 mejores matches usando TM_CCORR\n",
      "Output guardado en: images\\output\\output_TM_CCORR_coca_multi.png con los 5 mejores matches usando TM_CCORR\n",
      "Output guardado en: images\\output\\output_TM_CCORR_coca_retro_1.png con los 5 mejores matches usando TM_CCORR\n",
      "Output guardado en: images\\output\\output_TM_CCORR_coca_retro_2.png con los 5 mejores matches usando TM_CCORR\n",
      "Output guardado en: images\\output\\output_TM_CCORR_logo_1.png con los 5 mejores matches usando TM_CCORR\n",
      "Output guardado en: images\\output\\output_TM_SQDIFF_COCA-COLA-LOGO.jpg con los 5 mejores matches usando TM_SQDIFF\n",
      "Output guardado en: images\\output\\output_TM_SQDIFF_coca_logo_1.png con los 5 mejores matches usando TM_SQDIFF\n",
      "Output guardado en: images\\output\\output_TM_SQDIFF_coca_logo_2.png con los 5 mejores matches usando TM_SQDIFF\n",
      "Output guardado en: images\\output\\output_TM_SQDIFF_coca_multi.png con los 5 mejores matches usando TM_SQDIFF\n",
      "Output guardado en: images\\output\\output_TM_SQDIFF_coca_retro_1.png con los 5 mejores matches usando TM_SQDIFF\n",
      "Output guardado en: images\\output\\output_TM_SQDIFF_coca_retro_2.png con los 5 mejores matches usando TM_SQDIFF\n",
      "Output guardado en: images\\output\\output_TM_SQDIFF_logo_1.png con los 5 mejores matches usando TM_SQDIFF\n"
     ]
    }
   ],
   "source": [
    "import cv2\n",
    "import numpy as np\n",
    "import os\n",
    "\n",
    "def rotate_image(image, angle):\n",
    "    image_center = tuple(np.array(image.shape[1::-1]) / 2)\n",
    "    rot_mat = cv2.getRotationMatrix2D(image_center, angle, 1.0)\n",
    "    result = cv2.warpAffine(image, rot_mat, image.shape[1::-1], flags=cv2.INTER_LINEAR)\n",
    "    return result\n",
    "\n",
    "def remove_noise(image):\n",
    "    denoised_image = cv2.bilateralFilter(image, d=9, sigmaColor=75, sigmaSpace=75)\n",
    "    return denoised_image\n",
    "\n",
    "def calculate_self_similarity(template, edge_thresh1, edge_thresh2, method):\n",
    "    gray_template = cv2.cvtColor(template, cv2.COLOR_BGR2GRAY)\n",
    "    gray_template = remove_noise(gray_template)\n",
    "    edges_template = cv2.Canny(gray_template, edge_thresh1, edge_thresh2)\n",
    "    result = cv2.matchTemplate(edges_template, edges_template, method)\n",
    "    min_val, max_val, _, _ = cv2.minMaxLoc(result)\n",
    "    if method == cv2.TM_SQDIFF:\n",
    "        return min_val\n",
    "    else:\n",
    "        return max_val\n",
    "\n",
    "def multi_scale_template_matching(image, template, scale_range, angle_range, edge_thresh1, edge_thresh2, n_best_matches=1, self_similarity=None, method=cv2.TM_CCOEFF):\n",
    "    gray_image = cv2.cvtColor(image, cv2.COLOR_BGR2GRAY)\n",
    "    gray_template = cv2.cvtColor(template, cv2.COLOR_BGR2GRAY)\n",
    "\n",
    "    gray_image = remove_noise(gray_image)\n",
    "    gray_template = remove_noise(gray_template)\n",
    "\n",
    "    image_height, image_width = gray_image.shape\n",
    "    template_height, template_width = gray_template.shape\n",
    "    scale_width = image_width / template_width\n",
    "    scale_height = image_height / template_height\n",
    "    scale_factor = min(scale_width, scale_height)\n",
    "    gray_template = cv2.resize(gray_template, (int(template_width * scale_factor), int(template_height * scale_factor)))\n",
    "\n",
    "    gray_image = cv2.GaussianBlur(gray_image, (5, 5), 0)\n",
    "    edges_image = cv2.Canny(gray_image, edge_thresh1, edge_thresh2)    \n",
    "\n",
    "    best_matches = []\n",
    "\n",
    "    for scale in scale_range:\n",
    "        resized_template = cv2.resize(gray_template, (int(gray_template.shape[1] * scale), int(gray_template.shape[0] * scale)))\n",
    "\n",
    "        if resized_template.shape[0] > gray_image.shape[0] or resized_template.shape[1] > gray_image.shape[1]:\n",
    "            continue\n",
    "        \n",
    "        for angle in angle_range:\n",
    "            rotated_template = rotate_image(resized_template, angle)\n",
    "            edges_template = cv2.Canny(rotated_template, edge_thresh1, edge_thresh2)\n",
    "            result = cv2.matchTemplate(edges_image, edges_template, method)\n",
    "            min_val, max_val, min_loc, max_loc = cv2.minMaxLoc(result)\n",
    "\n",
    "            if method == cv2.TM_SQDIFF:\n",
    "                similarity_score = (self_similarity / min_val) * 100 if min_val != 0 else 100\n",
    "                match_val = -min_val\n",
    "                loc = min_loc\n",
    "            else:\n",
    "                similarity_score = (max_val / self_similarity) * 100\n",
    "                match_val = max_val\n",
    "                loc = max_loc\n",
    "\n",
    "            if len(best_matches) < n_best_matches:\n",
    "                best_matches.append((match_val, loc, scale, angle, rotated_template, similarity_score))\n",
    "                best_matches.sort(reverse=True, key=lambda x: x[0])\n",
    "            elif match_val > best_matches[-1][0]:\n",
    "                best_matches[-1] = (match_val, loc, scale, angle, rotated_template, similarity_score)\n",
    "                best_matches.sort(reverse=True, key=lambda x: x[0])\n",
    "\n",
    "    if not best_matches:\n",
    "        print(\"No se encontraron buenos matches.\")\n",
    "        return []\n",
    "\n",
    "    return best_matches\n",
    "\n",
    "# Directorio que contiene las imágenes\n",
    "image_directory = 'images'\n",
    "template = cv2.imread('template/pattern.png', cv2.IMREAD_COLOR)\n",
    "scale_range = np.linspace(0.05, 1.0, 100)\n",
    "angle_range = range(-5, 6)  # De -5 a 5 grados\n",
    "edge_thresh1 = 100\n",
    "edge_thresh2 = 200\n",
    "n_best_matches = 5  # Número de mejores matches que queremos graficar\n",
    "\n",
    "output_directory = os.path.join(image_directory, 'output')\n",
    "os.makedirs(output_directory, exist_ok=True)\n",
    "\n",
    "# Métodos de template matching a evaluar\n",
    "methods = [cv2.TM_CCOEFF, cv2.TM_CCORR, cv2.TM_SQDIFF]\n",
    "\n",
    "for method in methods:\n",
    "    method_name = {cv2.TM_CCOEFF: 'TM_CCOEFF', cv2.TM_CCORR: 'TM_CCORR', cv2.TM_SQDIFF: 'TM_SQDIFF'}[method]\n",
    "    # Calcular la similitud del template consigo mismo\n",
    "    self_similarity = calculate_self_similarity(template, edge_thresh1, edge_thresh2, method)\n",
    "\n",
    "    for filename in os.listdir(image_directory):\n",
    "        if filename.endswith(\".jpg\") or filename.endswith(\".png\"):\n",
    "            image_path = os.path.join(image_directory, filename)\n",
    "            image = cv2.imread(image_path, cv2.IMREAD_COLOR)\n",
    "            \n",
    "            best_matches = multi_scale_template_matching(image, template, scale_range, angle_range, edge_thresh1, edge_thresh2, n_best_matches, self_similarity, method)\n",
    "            \n",
    "            if best_matches:\n",
    "                for i, (val, loc, scale, angle, match_template, score) in enumerate(best_matches):\n",
    "                    top_left = loc\n",
    "                    template_height, template_width = match_template.shape\n",
    "                    bottom_right = (top_left[0] + template_width, top_left[1] + template_height)\n",
    "                    cv2.rectangle(image, top_left, bottom_right, (0, 255, 0), 2)\n",
    "                    cv2.putText(image, f'Match {i+1}: {score:.2f}% ({method_name})', (top_left[0], top_left[1]-10), cv2.FONT_HERSHEY_SIMPLEX, 0.5, (0, 255, 0), 1)\n",
    "\n",
    "                output_path = os.path.join(output_directory, f'output_{method_name}_' + filename)\n",
    "                cv2.imwrite(output_path, image)\n",
    "                print(f'Output guardado en: {output_path} con los {n_best_matches} mejores matches usando {method_name}')\n",
    "            else:\n",
    "                print(f'No se encontró un buen match para la imagen: {filename} usando {method_name}')\n"
   ]
  },
  {
   "cell_type": "markdown",
   "metadata": {},
   "source": [
    "2."
   ]
  },
  {
   "cell_type": "code",
   "execution_count": 47,
   "metadata": {},
   "outputs": [
    {
     "data": {
      "text/plain": [
       "True"
      ]
     },
     "execution_count": 47,
     "metadata": {},
     "output_type": "execute_result"
    }
   ],
   "source": [
    "import cv2 as cv\n",
    "import numpy as np\n",
    "from matplotlib import pyplot as plt\n",
    "\n",
    "# Leer la imagen principal y el template\n",
    "img_rgb = cv.imread('images/coca_multi.png')\n",
    "assert img_rgb is not None, \"El archivo no pudo ser leído, verifica con os.path.exists()\"\n",
    "img_gray = cv.cvtColor(img_rgb, cv.COLOR_BGR2GRAY)\n",
    "template = cv.imread('template/pattern.png', cv.IMREAD_GRAYSCALE)\n",
    "assert template is not None, \"El archivo no pudo ser leído, verifica con os.path.exists()\"\n",
    "\n",
    "# Definir el rango de escalas a probar\n",
    "scales = np.linspace(0.2, 1.0, 100)\n",
    "\n",
    "# Inicializar una lista para almacenar los puntos encontrados\n",
    "all_points = []\n",
    "\n",
    "def remove_noise(image):\n",
    "    # Aplicar un filtro bilateral para eliminar el ruido\n",
    "    denoised_image = cv.bilateralFilter(image, d=9, sigmaColor=75, sigmaSpace=75)\n",
    "    return denoised_image\n",
    "\n",
    "\n",
    "template = remove_noise(template)\n",
    "\n",
    "#img_gray = cv.GaussianBlur(img_gray, (5, 5), 0)\n",
    "template = cv.GaussianBlur(template, (5, 5), 0)\n",
    "img_gray = cv.Canny(img_gray, 150, 200)\n",
    "template = cv.Canny(template, 150, 200)\n",
    "\n",
    "cv.imshow('Imagen Original vs Nueva', img_gray)\n",
    "cv.waitKey(0)\n",
    "cv.destroyAllWindows()\n",
    "\n",
    "# Iterar sobre las diferentes escalas\n",
    "for scale in scales:\n",
    "    # Redimensionar el template según la escala actual\n",
    "    width = int(template.shape[1] * scale)\n",
    "    height = int(template.shape[0] * scale)\n",
    "    resized_template = cv.resize(template, (width, height))\n",
    "    \n",
    "    # Realizar la búsqueda del template en la imagen\n",
    "    res = cv.matchTemplate(img_gray, resized_template, cv.TM_CCORR_NORMED)\n",
    "    threshold = 0.28\n",
    "    loc = np.where(res >= threshold)\n",
    "    \n",
    "    # Almacenar los puntos encontrados\n",
    "    for pt in zip(*loc[::-1]):\n",
    "        all_points.append((pt, (pt[0] + width, pt[1] + height)))\n",
    "\n",
    "# Dibujar los rectángulos en la imagen original\n",
    "for pt1, pt2 in all_points:\n",
    "    cv.rectangle(img_rgb, pt1, pt2, (0, 255, 255), 2)\n",
    "\n",
    "# Guardar la imagen con los resultados\n",
    "cv.imwrite('Multi_detect.png', img_rgb)"
   ]
  },
  {
   "cell_type": "code",
   "execution_count": 54,
   "metadata": {},
   "outputs": [
    {
     "name": "stdout",
     "output_type": "stream",
     "text": [
      "Resultados guardados en: results\\COCA-COLA-LOGO.jpg\n",
      "Resultados guardados en: results\\coca_logo_1.png\n",
      "Resultados guardados en: results\\coca_logo_2.png\n",
      "Resultados guardados en: results\\coca_multi.png\n",
      "Resultados guardados en: results\\coca_retro_1.png\n",
      "Resultados guardados en: results\\coca_retro_2.png\n",
      "Resultados guardados en: results\\logo_1.png\n"
     ]
    }
   ],
   "source": [
    "import cv2 as cv\n",
    "import numpy as np\n",
    "import os\n",
    "from matplotlib import pyplot as plt\n",
    "\n",
    "def remove_noise(image):\n",
    "    # Aplicar un filtro bilateral para eliminar el ruido\n",
    "    denoised_image = cv.bilateralFilter(image, d=9, sigmaColor=75, sigmaSpace=75)\n",
    "    return denoised_image\n",
    "\n",
    "def process_image(image_path, template):\n",
    "    img_rgb = cv.imread(image_path)\n",
    "    assert img_rgb is not None, f\"El archivo {image_path} no pudo ser leído, verifica con os.path.exists()\"\n",
    "    img_gray = cv.cvtColor(img_rgb, cv.COLOR_BGR2GRAY)\n",
    "\n",
    "    # Preprocesamiento de la imagen principal\n",
    "    img_gray = remove_noise(img_gray)    \n",
    "    #img_gray = cv.GaussianBlur(img_gray, (5, 5), 0)\n",
    "    \n",
    "    img_gray = cv.Canny(img_gray, 150, 200)\n",
    "    \n",
    "    # Definir el rango de escalas a probar\n",
    "    scales = np.linspace(0.2, 3.0, 150)\n",
    "    \n",
    "    # Inicializar una lista para almacenar los puntos encontrados\n",
    "    all_points = []\n",
    "    \n",
    "    # Obtener las dimensiones de la imagen principal\n",
    "    img_height, img_width = img_gray.shape\n",
    "    \n",
    "    # Iterar sobre las diferentes escalas y rotaciones\n",
    "    for scale in scales:\n",
    "        width = int(template.shape[1] * scale)\n",
    "        height = int(template.shape[0] * scale)\n",
    "        \n",
    "        # Validar que el template redimensionado no sea mayor que la imagen\n",
    "        if width > img_width or height > img_height:\n",
    "            continue\n",
    "        \n",
    "        resized_template = cv.resize(template, (width, height))\n",
    "        \n",
    "        for angle in range(-2, 3):\n",
    "            rotated_template = rotate_image(resized_template, angle)\n",
    "            \n",
    "            # Validar que el template rotado no sea mayor que la imagen\n",
    "            if rotated_template.shape[1] > img_width or rotated_template.shape[0] > img_height:\n",
    "                continue\n",
    "            \n",
    "            # Realizar la búsqueda del template en la imagen\n",
    "            res = cv.matchTemplate(img_gray, rotated_template, cv.TM_CCORR_NORMED)\n",
    "            threshold = 0.28\n",
    "            loc = np.where(res >= threshold)\n",
    "            \n",
    "            # Almacenar los puntos encontrados\n",
    "            for pt in zip(*loc[::-1]):\n",
    "                all_points.append((pt, (pt[0] + rotated_template.shape[1], pt[1] + rotated_template.shape[0])))\n",
    "    \n",
    "    # Dibujar los rectángulos en la imagen original\n",
    "    for pt1, pt2 in all_points:\n",
    "        cv.rectangle(img_rgb, pt1, pt2, (0, 255, 255), 2)\n",
    "    \n",
    "    # Guardar la imagen con los resultados\n",
    "    output_path = os.path.join('results', os.path.basename(image_path))\n",
    "    os.makedirs('results', exist_ok=True)\n",
    "    cv.imwrite(output_path, img_rgb)\n",
    "    print(f'Resultados guardados en: {output_path}')\n",
    "\n",
    "def rotate_image(image, angle):\n",
    "    center = (image.shape[1] // 2, image.shape[0] // 2)\n",
    "    matrix = cv.getRotationMatrix2D(center, angle, 1.0)\n",
    "    rotated = cv.warpAffine(image, matrix, (image.shape[1], image.shape[0]), flags=cv.INTER_LINEAR)\n",
    "    return rotated\n",
    "\n",
    "# Leer el template y aplicar preprocesamiento\n",
    "template = cv.imread('template/pattern.png', cv.IMREAD_GRAYSCALE)\n",
    "assert template is not None, \"El archivo template/pattern.png no pudo ser leído, verifica con os.path.exists()\"\n",
    "template = remove_noise(template)\n",
    "template = cv.GaussianBlur(template, (5, 5), 0)\n",
    "template = cv.Canny(template, 150, 200)\n",
    "\n",
    "# Procesar todas las imágenes en la carpeta 'images'\n",
    "image_folder = 'images'\n",
    "for filename in os.listdir(image_folder):\n",
    "    if filename.lower().endswith(('.png', '.jpg', '.jpeg', '.bmp', '.tiff')):\n",
    "        image_path = os.path.join(image_folder, filename)\n",
    "        process_image(image_path, template)\n"
   ]
  },
  {
   "cell_type": "code",
   "execution_count": 22,
   "metadata": {},
   "outputs": [
    {
     "data": {
      "text/plain": [
       "True"
      ]
     },
     "execution_count": 22,
     "metadata": {},
     "output_type": "execute_result"
    }
   ],
   "source": [
    "import cv2 as cv\n",
    "import numpy as np\n",
    "\n",
    "# Leer la imagen principal y el template\n",
    "img_rgb = cv.imread('images/coca_multi.png')\n",
    "assert img_rgb is not None, \"El archivo no pudo ser leído, verifica con os.path.exists()\"\n",
    "img_gray = cv.cvtColor(img_rgb, cv.COLOR_BGR2GRAY)\n",
    "template = cv.imread('template/pattern.png', cv.IMREAD_GRAYSCALE)\n",
    "assert template is not None, \"El archivo no pudo ser leído, verifica con os.path.exists()\"\n",
    "\n",
    "# Parámetros para la pirámide\n",
    "max_levels = 5  # Número de niveles de la pirámide\n",
    "threshold = 0.5  # Umbral para la coincidencia de templates\n",
    "\n",
    "# Inicializar lista para almacenar puntos encontrados\n",
    "all_points = []\n",
    "\n",
    "# Crear una copia de la imagen original para las anotaciones\n",
    "img_result = img_rgb.copy()\n",
    "\n",
    "# Iterar sobre los niveles de la pirámide\n",
    "for level in range(max_levels):\n",
    "    # Calcular la escala actual\n",
    "    scale = 1 / (2 ** level)\n",
    "    \n",
    "    # Redimensionar el template según la escala actual\n",
    "    width = int(template.shape[1] * scale)\n",
    "    height = int(template.shape[0] * scale)\n",
    "    if width < 1 or height < 1:\n",
    "        break\n",
    "    resized_template = cv.resize(template, (width, height))\n",
    "    \n",
    "    # Realizar la búsqueda del template en la imagen\n",
    "    res = cv.matchTemplate(img_gray, resized_template, cv.TM_CCOEFF_NORMED)\n",
    "    loc = np.where(res >= threshold)\n",
    "    \n",
    "    # Ajustar los puntos encontrados a la escala original\n",
    "    for pt in zip(*loc[::-1]):\n",
    "        w, h = resized_template.shape[::-1]\n",
    "        all_points.append((pt, (pt[0] + w, pt[1] + h)))\n",
    "\n",
    "# Dibujar los rectángulos en la imagen original\n",
    "for pt1, pt2 in all_points:\n",
    "    cv.rectangle(img_result, pt1, pt2, (255, 0, 255), 2)\n",
    "\n",
    "# Guardar la imagen con los resultados\n",
    "cv.imwrite('res.png', img_result)\n"
   ]
  },
  {
   "cell_type": "markdown",
   "metadata": {},
   "source": [
    "3. Un posible problema para el algoritmo White-Patch se presenta cuando hay píxeles del mismo color que el valor de referencia (En nuestro caso 255), ya que en la fórmula tendremos (R;G;B) = (R*valor_ref/R_max;G*valor_ref/G_max;B*valor_ref/B_max) = (R*1;G*1;B*1).\n",
    "En este caso no se verá ninguna modificación en la imagen.\n",
    "Esto se comprobó agregando un círculo blanco a la imagen wp_red.png (ahora wp_red_white_circle.png)."
   ]
  },
  {
   "cell_type": "code",
   "execution_count": 21,
   "metadata": {},
   "outputs": [],
   "source": [
    "import cv2\n",
    "\n",
    "# Cargamos la imagen\n",
    "imagen_original = cv2.imread('white_patch/wp_red_white_circle.png')\n",
    "\n",
    "# Aplicamos La función\n",
    "imagen_filtrada = white_patch(imagen_original)\n",
    "\n",
    "# Concatenar horizontalmente las dos imágenes\n",
    "imagen_concatenada = np.hstack((imagen_original, imagen_filtrada))\n",
    "\n",
    "# Mostrar ambas imágenes\n",
    "cv2.imshow('Imagen Original vs Nueva', imagen_concatenada)\n",
    "cv2.waitKey(0)\n",
    "cv2.destroyAllWindows()"
   ]
  },
  {
   "cell_type": "markdown",
   "metadata": {},
   "source": [
    "#### Parte 2\n",
    "\n",
    "1. Para las imágenes img1_tp.png y img2_tp.png leerlas con OpenCV en escala de grisas y visualizarlas. \n",
    "2. Elija el numero de bins que crea conveniente y grafique su histograma, compare los histogramas entre si. \n",
    "Explicar lo que se observa, si tuviera que entrenar un modelo de clasificación/detección de imágenes, \n",
    "¿considera que puede ser de utilidad tomar como ‘features’ a los histogramas?\n",
    "3. Para la imagen segmentacion.png analice el histograma de los canales RGB. Segmente algunos de los \n",
    "elementos presentes en la imagen (agua, cielo, tierra) y muestre, aplicando mascaras, las regiones en imágenes \n",
    "separadas.\n"
   ]
  },
  {
   "cell_type": "markdown",
   "metadata": {},
   "source": [
    "1. "
   ]
  },
  {
   "cell_type": "code",
   "execution_count": 12,
   "metadata": {},
   "outputs": [],
   "source": [
    "import cv2\n",
    "\n",
    "# Cargamos las imágenes\n",
    "img1 = cv2.imread('img1_tp.png', cv2.IMREAD_GRAYSCALE)\n",
    "img2 = cv2.imread('img2_tp.png', cv2.IMREAD_GRAYSCALE)\n",
    "\n",
    "cv2.imshow('Imagen 1', img1)\n",
    "cv2.imshow('Imagen 2', img2)\n",
    "cv2.waitKey(0)\n",
    "cv2.destroyAllWindows()"
   ]
  },
  {
   "cell_type": "markdown",
   "metadata": {},
   "source": [
    "2. "
   ]
  },
  {
   "cell_type": "code",
   "execution_count": 17,
   "metadata": {},
   "outputs": [
    {
     "data": {
      "text/plain": [
       "[<matplotlib.lines.Line2D at 0x18d562e6e40>]"
      ]
     },
     "execution_count": 17,
     "metadata": {},
     "output_type": "execute_result"
    },
    {
     "data": {
      "image/png": "[encoded data removed]",
      "text/plain": [
       "<Figure size 640x480 with 1 Axes>"
      ]
     },
     "metadata": {},
     "output_type": "display_data"
    }
   ],
   "source": [
    "# Graficamos el histograma de la primera imagen\n",
    "import numpy as np\n",
    "import matplotlib.pyplot as plt\n",
    "\n",
    "\n",
    "# Dadas las características de las imágenes, el número de bins utilizado será 256, \n",
    "# ya que permite representar el valor de todos los píxeles de 8 bits en escala de grises.\n",
    "hist1, bins1 = np.histogram(img1, 256, [0, 256])\n",
    "plt.plot(hist1)"
   ]
  },
  {
   "cell_type": "code",
   "execution_count": 14,
   "metadata": {},
   "outputs": [
    {
     "data": {
      "text/plain": [
       "[<matplotlib.lines.Line2D at 0x18d52782ed0>]"
      ]
     },
     "execution_count": 14,
     "metadata": {},
     "output_type": "execute_result"
    },
    {
     "data": {
      "image/png": "[encoded data removed]",
      "text/plain": [
       "<Figure size 640x480 with 1 Axes>"
      ]
     },
     "metadata": {},
     "output_type": "display_data"
    }
   ],
   "source": [
    "# Graficamos el histograma de la segunda imagen\n",
    "hist2, bins2 = np.histogram(img2, 256, [0, 256])\n",
    "plt.plot(hist2)"
   ]
  },
  {
   "cell_type": "code",
   "execution_count": 15,
   "metadata": {},
   "outputs": [
    {
     "data": {
      "image/png": "[encoded data removed]",
      "text/plain": [
       "<Figure size 640x480 with 1 Axes>"
      ]
     },
     "metadata": {},
     "output_type": "display_data"
    }
   ],
   "source": [
    "# Graficamos ambos histograma en el mismo gráfico\n",
    "plt.plot(hist1, color='r', label='Imagen 1')\n",
    "plt.plot(hist2, color='g', label='Imagen 2')\n",
    "plt.show()"
   ]
  },
  {
   "cell_type": "markdown",
   "metadata": {},
   "source": [
    "Observamos que ambos histogramas son iguales. Esto se debe a que la distribución de grises de las imágenes es la misma pero los píxeles están ubicados en distintas posiciones, lo que genera imágenes totalemente distintas pese a tener las mismas tonalidades.\n",
    "Podemos concluir a partir de esto, que el histograma es un mal descriptor de imágenes que será poco práctico para entrenar un clasificador de imágenes."
   ]
  },
  {
   "cell_type": "markdown",
   "metadata": {},
   "source": [
    "3. "
   ]
  },
  {
   "cell_type": "code",
   "execution_count": 166,
   "metadata": {},
   "outputs": [],
   "source": [
    "%matplotlib tkagg\n",
    "\n",
    "import cv2\n",
    "import matplotlib.pyplot as plt\n",
    "\n",
    "# Cargamos la imagen color\n",
    "img_color = cv2.imread('segmentacion.png')\n",
    "# La convertimos a HSV\n",
    "img_HSV = cv2.cvtColor(img_color, cv2.COLOR_BGR2HSV)\n",
    "\n",
    "# Msotramos la imagen\n",
    "plt.figure(1)\n",
    "plt.imshow(img_HSV)\n",
    "plt.show()\n",
    "\n",
    "# Graficamos los perfiles de intensidad de cada canal para la primera fila\n",
    "plt.figure(2)\n",
    "idx_col = 1\n",
    "perfil_color = img_HSV[:, idx_col]\n",
    "plt.plot(perfil_color[:,0], color='r',label='H')\n",
    "plt.plot(perfil_color[:,1], color='g',label='S')\n",
    "plt.plot(perfil_color[:,2], color='b',label='V')\n",
    "plt.xlabel('Fila')\n",
    "plt.ylabel('Intensidad')\n",
    "plt.title('Perfil sobre la columna {}'.format(idx_col))\n",
    "plt.grid()\n",
    "plt.xlim(0,480)\n",
    "plt.ylim(0,255)\n",
    "plt.legend()\n",
    "plt.show()\n",
    "\n",
    "# Graficamos los perfiles de intensidad de cada canal para la última fila\n",
    "plt.figure(3)\n",
    "idx_col = img_HSV.shape[1]-1\n",
    "perfil_color = img_HSV[:, idx_col]\n",
    "plt.plot(perfil_color[:,0], color='r',label='H')\n",
    "plt.plot(perfil_color[:,1], color='g',label='S')\n",
    "plt.plot(perfil_color[:,2], color='b',label='V')\n",
    "plt.xlabel('Fila')\n",
    "plt.ylabel('Intensidad')\n",
    "plt.title('Perfil sobre la columna {}'.format(idx_col))\n",
    "plt.grid()\n",
    "plt.xlim(0,480)\n",
    "plt.ylim(0,255)\n",
    "plt.legend()\n",
    "plt.show()"
   ]
  },
  {
   "cell_type": "code",
   "execution_count": 167,
   "metadata": {},
   "outputs": [
    {
     "name": "stdout",
     "output_type": "stream",
     "text": [
      "(102.84641213980143, 186.88522883202842, 216.90963354588746, 0.0)\n"
     ]
    }
   ],
   "source": [
    "# Cortamos una porción de la imagen para poder obtener los valores de HSV correspondientes a la misma.\n",
    "# En este caso, el cielo.\n",
    "img_muestra_hsv = img_HSV[0:260,:,:]\n",
    "plt.imshow(img_muestra_hsv)\n",
    "plt.show()\n",
    "\n",
    "# Calculamos un modelo estadístico sencillo para caracterizar el color\n",
    "color_mean = cv2.mean(img_muestra_hsv)\n",
    "    \n",
    "print(color_mean)"
   ]
  },
  {
   "cell_type": "code",
   "execution_count": 168,
   "metadata": {},
   "outputs": [],
   "source": [
    "# Para los siguientes valores, se utilizaron los calculados como refierencia,\n",
    "# pero se utilizaron los obtenidos en base a los histogramas\n",
    "color_l = (99,25,155)\n",
    "color_u = (110,255,255)\n",
    "\n",
    "mask = cv2.inRange(img_HSV, color_l,  color_u)\n",
    "img_segmentada = cv2.bitwise_and(img_color, img_color, mask=mask)\n",
    "img_segmentada_rgb = cv2.cvtColor(img_segmentada, cv2.COLOR_BGR2RGB)\n",
    "\n",
    "plt.figure(4)\n",
    "plt.imshow(img_segmentada_rgb)\n",
    "plt.show()"
   ]
  },
  {
   "cell_type": "code",
   "execution_count": 169,
   "metadata": {},
   "outputs": [],
   "source": [
    "# Restamos la imagen segmentada de la imagen original para quitar el cielo\n",
    "img_color_rgb = cv2.cvtColor(img_color, cv2.COLOR_BGR2RGB)\n",
    "img_sin_cielo = img_color_rgb - img_segmentada_rgb\n",
    "\n",
    "plt.imshow(img_sin_cielo)\n",
    "plt.show()"
   ]
  },
  {
   "cell_type": "code",
   "execution_count": 170,
   "metadata": {},
   "outputs": [],
   "source": [
    "# Procedemos a sacar las piedras\n",
    "img_muestra_zona_piedras = img_color_rgb[540:img_color_rgb.shape[0]-1,:,:]\n",
    "plt.figure(1)\n",
    "plt.imshow(img_muestra_zona_piedras)\n",
    "plt.show()\n",
    "plt.figure(2)\n",
    "img_muestra_hsv_2 = img_HSV[540:img_color_rgb.shape[0]-1,:,:]\n",
    "plt.imshow(img_muestra_hsv_2)\n",
    "plt.show()\n",
    "\n",
    "# Graficamos los perfiles de intensidad de cada canal para la primera fila\n",
    "plt.figure(3)\n",
    "idx_col = 1\n",
    "perfil_color = img_muestra_hsv_2[:, idx_col]\n",
    "plt.plot(perfil_color[:,0], color='r',label='H')\n",
    "plt.plot(perfil_color[:,1], color='g',label='S')\n",
    "plt.plot(perfil_color[:,2], color='b',label='V')\n",
    "plt.xlabel('Fila')\n",
    "plt.ylabel('Intensidad')\n",
    "plt.title('Perfil sobre la columna {}'.format(idx_col))\n",
    "plt.grid()\n",
    "plt.xlim(0,480)\n",
    "plt.ylim(0,255)\n",
    "plt.legend()\n",
    "plt.show()\n",
    "\n",
    "# Graficamos los perfiles de intensidad de cada canal para la última fila\n",
    "plt.figure(4)\n",
    "idx_col = img_HSV.shape[1]-1\n",
    "perfil_color = img_muestra_hsv_2[:, idx_col]\n",
    "plt.plot(perfil_color[:,0], color='r',label='H')\n",
    "plt.plot(perfil_color[:,1], color='g',label='S')\n",
    "plt.plot(perfil_color[:,2], color='b',label='V')\n",
    "plt.xlabel('Fila')\n",
    "plt.ylabel('Intensidad')\n",
    "plt.title('Perfil sobre la columna {}'.format(idx_col))\n",
    "plt.grid()\n",
    "plt.xlim(0,480)\n",
    "plt.ylim(0,255)\n",
    "plt.legend()\n",
    "plt.show()"
   ]
  },
  {
   "cell_type": "code",
   "execution_count": 172,
   "metadata": {},
   "outputs": [],
   "source": [
    "# Aquí se utilizaron valores en base a los histogramas\n",
    "color_l = (0,0,0)\n",
    "color_u = (25,255,255)\n",
    "\n",
    "mask_2 = cv2.inRange(img_HSV, color_l,  color_u)\n",
    "img_segmentada_2 = cv2.bitwise_and(img_color, img_color, mask=mask_2)\n",
    "img_segmentada_rgb_2 = cv2.cvtColor(img_segmentada_2, cv2.COLOR_BGR2RGB)\n",
    "\n",
    "plt.figure(4)\n",
    "plt.imshow(img_segmentada_rgb_2)\n",
    "plt.show()"
   ]
  },
  {
   "cell_type": "code",
   "execution_count": 173,
   "metadata": {},
   "outputs": [],
   "source": [
    "# Restamos la imagen segmentada de la imagen original para quitar el cielo\n",
    "img_sin_cielo_y_sin_piedras = img_sin_cielo - img_segmentada_rgb_2\n",
    "\n",
    "plt.imshow(img_sin_cielo_y_sin_piedras)\n",
    "plt.show()"
   ]
  }
 ],
 "metadata": {
  "kernelspec": {
   "display_name": "venv",
   "language": "python",
   "name": "python3"
  },
  "language_info": {
   "codemirror_mode": {
    "name": "ipython",
    "version": 3
   },
   "file_extension": ".py",
   "mimetype": "text/x-python",
   "name": "python",
   "nbconvert_exporter": "python",
   "pygments_lexer": "ipython3",
   "version": "3.12.1"
  }
 },
 "nbformat": 4,
 "nbformat_minor": 2
}
